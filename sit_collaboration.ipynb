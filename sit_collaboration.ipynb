{
 "cells": [
  {
   "cell_type": "markdown",
   "metadata": {},
   "source": [
    "# Collaborating with SIT\n",
    "This document is meant to provide prospective industry partners, in a nutshell, how they can collaborate with SIT.\n",
    "\n",
    "## A bit of history...\n",
    "\n",
    "**2015** SIT launched 5 new degrees; enrolled > 4000 students\n",
    "\n",
    "**2014** SIT Act gazetted in Parliament (Autonomous University (AU) status) and launched 3 SIT degrees\n",
    "\n",
    "**2009** SIT established to offer degrees from Overseas University (OU) partners at polys \n",
    "\n",
    "---\n",
    "\n",
    "## Campus\n",
    "Punggol campus announced in 2015 :\n",
    "\n",
    "http://www.straitstimes.com/singapore/education/new-punggol-campus-for-sit\n",
    "\n",
    "![](http://www.straitstimes.com/sites/default/files/styles/x_large/public/articles/2015/08/24/ST_20150824_SDNDR24_1626406.jpg?itok=xAEn8k7V)\n",
    "\n",
    "---\n",
    "\n",
    "## Some quick info (**2017**)\n",
    "\n",
    "### SIT\n",
    "- ~120 faculty\n",
    "- ~5000 students, 43 degree programmes, 10 OUs\n",
    "- intake of 2500 per year (3rd AU after NUS/NTU) from 12000+ applicants\n",
    "- shortlisted applicants have to go thru interview\n",
    "\n",
    "---\n",
    "\n",
    "## How we can work together\n",
    "| Industry Induction (II) | Integrative Team Project (ITP) | Integrated Work Study Programme (IWSP) | Final Year Project (FYP)\n",
    "|---\n",
    "| Individual | Team (4-6) | Individual | Individual |\n",
    "| May-Aug (4 mths) | May-Aug (4 mths) | Jan-Dec/May-Apr (12 mths) | Sep-Mar (6mths) |\n",
    "| Intern Allowance | NA | ~full-time pay | NA |\n",
    "| Yr 1 | Yr 2 | Yr 3 | Yr 3 |\n",
    "\n",
    "- joint supervision faculty+industry\n",
    "- all industry-linked projects\n",
    "---\n",
    "\n",
    "## Funding\n",
    "Projects may involve additional manpower, equipment or other consumables. The funding is usually in the following forms:\n",
    "\n",
    "1. Fully funded by industry\n",
    "2. SIT competitive internal grants up to 100k (requires industry to fund 30% and may be in-kind)\n",
    "3. SIT + industry jointly apply for external grants\n",
    "\n"
   ]
  }
 ],
 "metadata": {
  "anaconda-cloud": {},
  "kernelspec": {
   "display_name": "Python [Root]",
   "language": "python",
   "name": "Python [Root]"
  },
  "language_info": {
   "codemirror_mode": {
    "name": "ipython",
    "version": 3
   },
   "file_extension": ".py",
   "mimetype": "text/x-python",
   "name": "python",
   "nbconvert_exporter": "python",
   "pygments_lexer": "ipython3",
   "version": "3.5.2"
  }
 },
 "nbformat": 4,
 "nbformat_minor": 0
}
