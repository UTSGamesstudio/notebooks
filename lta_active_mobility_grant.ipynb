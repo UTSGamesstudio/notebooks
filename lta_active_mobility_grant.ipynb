{
 "cells": [
  {
   "cell_type": "code",
   "execution_count": 7,
   "metadata": {
    "collapsed": true,
    "nbpresent": {
     "id": "607995cd-959b-48cd-89ef-09d2fe554c6c"
    },
    "slideshow": {
     "slide_type": "skip"
    }
   },
   "outputs": [],
   "source": [
    "from IPython.display import Image\n",
    "from IPython.core.display import HTML "
   ]
  },
  {
   "cell_type": "markdown",
   "metadata": {
    "nbpresent": {
     "id": "f383b8f0-06f7-481e-a621-eb849d2ff295"
    }
   },
   "source": [
    "# LTA Active Mobility Grant\n",
    "These are some notes I took during the grant call seminar by LTA on 21 July.\n",
    "\n",
    "## 3 Areas\n",
    "\n",
    "- Improve public safety\n",
    "- Provide comfort and convenience on active mobility trips\n",
    "- Improve resource efficiency\n",
    "\n",
    "---\n",
    "## Improve public safety"
   ]
  },
  {
   "cell_type": "code",
   "execution_count": 16,
   "metadata": {
    "collapsed": false,
    "nbpresent": {
     "id": "a6b3b419-b3f0-4a04-b510-30c462375eab"
    },
    "slideshow": {
     "slide_type": "skip"
    }
   },
   "outputs": [
    {
     "data": {
      "text/html": [
       "<img src=\"https://cnet3.cbsistatic.com/img/Wa_gtbZsEoqs8Mlx4mUjPuitUYk=/fit-in/970x0/2015/04/14/8b87a9c5-98fe-460c-9408-c31fc79911d4/babelbikeinventor.jpg\" width=\"500\"/>"
      ],
      "text/plain": [
       "<IPython.core.display.Image object>"
      ]
     },
     "execution_count": 16,
     "metadata": {},
     "output_type": "execute_result"
    }
   ],
   "source": [
    "Image(url=\"https://cnet3.cbsistatic.com/img/Wa_gtbZsEoqs8Mlx4mUjPuitUYk=/fit-in/970x0/2015/04/14/8b87a9c5-98fe-460c-9408-c31fc79911d4/babelbikeinventor.jpg\", width=500)"
   ]
  },
  {
   "cell_type": "code",
   "execution_count": 10,
   "metadata": {
    "collapsed": false,
    "nbpresent": {
     "id": "d4750036-2d51-4ba8-a9dc-1d0a9c1ce175"
    }
   },
   "outputs": [
    {
     "data": {
      "text/html": [
       "<iframe width=\"560\" height=\"315\" src=\"https://www.youtube.com/embed/1KtSP4laElE\" frameborder=\"0\" allowfullscreen></iframe>"
      ],
      "text/plain": [
       "<IPython.core.display.HTML object>"
      ]
     },
     "execution_count": 10,
     "metadata": {},
     "output_type": "execute_result"
    }
   ],
   "source": [
    "HTML('<iframe width=\"560\" height=\"315\" src=\"https://www.youtube.com/embed/1KtSP4laElE\" frameborder=\"0\" allowfullscreen></iframe>')"
   ]
  },
  {
   "cell_type": "markdown",
   "metadata": {
    "nbpresent": {
     "id": "2530d5f6-e505-4e6a-a19d-2b0f45fa62e1"
    }
   },
   "source": [
    "---\n",
    "\n",
    "## Provide comfort and convenience on active mobility trips"
   ]
  },
  {
   "cell_type": "code",
   "execution_count": 15,
   "metadata": {
    "collapsed": false,
    "nbpresent": {
     "id": "3bd2c9b8-4132-49b8-85d3-7e484802809e"
    }
   },
   "outputs": [
    {
     "data": {
      "text/html": [
       "<img src=\"https://cdn.citylab.com/media/img/citylab/2015/02/OrganicTransit006/940.jpg\" width=\"500\"/>"
      ],
      "text/plain": [
       "<IPython.core.display.Image object>"
      ]
     },
     "execution_count": 15,
     "metadata": {},
     "output_type": "execute_result"
    }
   ],
   "source": [
    "Image(url=\"https://cdn.citylab.com/media/img/citylab/2015/02/OrganicTransit006/940.jpg\", width=500)"
   ]
  },
  {
   "cell_type": "markdown",
   "metadata": {
    "nbpresent": {
     "id": "1a908f22-f21b-46cc-8691-2618fc9fbe37"
    }
   },
   "source": [
    "---\n",
    "\n",
    "## Improve resource efficiency"
   ]
  },
  {
   "cell_type": "code",
   "execution_count": 18,
   "metadata": {
    "collapsed": false,
    "nbpresent": {
     "id": "656571bd-3dde-452d-8861-d477fa7c5438"
    }
   },
   "outputs": [
    {
     "data": {
      "text/html": [
       "<img src=\"http://www.tnp.sg/sites/default/files/styles/rl780/public/articles/2017/04/15/NP_20170415_ACBIKE15_1537000.jpg\" width=\"500\"/>"
      ],
      "text/plain": [
       "<IPython.core.display.Image object>"
      ]
     },
     "execution_count": 18,
     "metadata": {},
     "output_type": "execute_result"
    }
   ],
   "source": [
    "Image(url=\"http://www.tnp.sg/sites/default/files/styles/rl780/public/articles/2017/04/15/NP_20170415_ACBIKE15_1537000.jpg\", width=500)"
   ]
  },
  {
   "cell_type": "markdown",
   "metadata": {},
   "source": [
    "---\n",
    "## Other notes\n",
    "- possibility of using LTA Data Mall\n",
    "https://www.mytransport.sg/content/mytransport/home/dataMall.html\n",
    "\n",
    "- increasing adoption of PMDs, and car-lite, was regularly mentioned"
   ]
  },
  {
   "cell_type": "markdown",
   "metadata": {
    "nbpresent": {
     "id": "9bac8e1a-e3a4-436b-a237-38b803aaab45"
    }
   },
   "source": [
    "---\n",
    "## Application\n",
    "- 22 Sep 2017 deadline\n",
    "- Company applications need >=30% collateral (in-kind/cash) and will be viewed favourably\n",
    "- project should span ~3 years\n",
    "- towards the urban mobility grand challenge (what?)"
   ]
  }
 ],
 "metadata": {
  "anaconda-cloud": {},
  "kernelspec": {
   "display_name": "Python [Root]",
   "language": "python",
   "name": "Python [Root]"
  },
  "language_info": {
   "codemirror_mode": {
    "name": "ipython",
    "version": 3
   },
   "file_extension": ".py",
   "mimetype": "text/x-python",
   "name": "python",
   "nbconvert_exporter": "python",
   "pygments_lexer": "ipython3",
   "version": "3.5.2"
  },
  "nbpresent": {
   "slides": {
    "84e9fedc-213f-4b0f-911e-9d2123f444a1": {
     "id": "84e9fedc-213f-4b0f-911e-9d2123f444a1",
     "prev": "c4b0e4dd-d834-4aa5-8825-7b619f6d7fb3",
     "regions": {
      "78e3049e-39ea-4858-8a13-593807fa2c03": {
       "attrs": {
        "height": 0.8,
        "width": 0.8,
        "x": 0.1,
        "y": 0.1
       },
       "content": {
        "cell": "1a908f22-f21b-46cc-8691-2618fc9fbe37",
        "part": "whole"
       },
       "id": "78e3049e-39ea-4858-8a13-593807fa2c03"
      }
     }
    },
    "8853c419-4800-4220-a2bc-a8eb015b2452": {
     "id": "8853c419-4800-4220-a2bc-a8eb015b2452",
     "prev": "b6c2d4b9-3b3c-4712-9e5e-83c8ef13971f",
     "regions": {
      "b2eb2bb8-a045-40af-9983-96970d4a23f6": {
       "attrs": {
        "height": 0.8,
        "width": 0.8,
        "x": 0.1,
        "y": 0.1
       },
       "content": {
        "cell": "a6b3b419-b3f0-4a04-b510-30c462375eab",
        "part": "whole"
       },
       "id": "b2eb2bb8-a045-40af-9983-96970d4a23f6"
      }
     }
    },
    "88feba37-5dfd-4721-80ba-a743cbe9310d": {
     "id": "88feba37-5dfd-4721-80ba-a743cbe9310d",
     "prev": "c2a0fb0b-ea79-4671-b4e1-3683e3c0e549",
     "regions": {
      "9e16c6ca-be82-4fd5-94fd-b74445db4ea9": {
       "attrs": {
        "height": 0.8,
        "width": 0.8,
        "x": 0.1,
        "y": 0.1
       },
       "content": {
        "cell": "2530d5f6-e505-4e6a-a19d-2b0f45fa62e1",
        "part": "whole"
       },
       "id": "9e16c6ca-be82-4fd5-94fd-b74445db4ea9"
      }
     }
    },
    "8e242c74-c8f7-4322-a431-d652211a1ba2": {
     "id": "8e242c74-c8f7-4322-a431-d652211a1ba2",
     "prev": "bdedf4d0-1c9a-4713-b684-7b4a399f0a61",
     "regions": {
      "a7342a10-241d-4c81-aeae-9f760bece0ce": {
       "attrs": {
        "height": 0.8,
        "width": 0.8,
        "x": 0.1,
        "y": 0.1
       },
       "content": {
        "cell": "9bac8e1a-e3a4-436b-a237-38b803aaab45",
        "part": "whole"
       },
       "id": "a7342a10-241d-4c81-aeae-9f760bece0ce"
      }
     }
    },
    "b6c2d4b9-3b3c-4712-9e5e-83c8ef13971f": {
     "id": "b6c2d4b9-3b3c-4712-9e5e-83c8ef13971f",
     "layout": "grid",
     "prev": null,
     "regions": {
      "de579c57-742d-40ad-940e-47761477e3e5": {
       "attrs": {
        "height": 0.6666666666666666,
        "pad": 0.01,
        "width": 0.4166666666666667,
        "x": 0,
        "y": 0.08333333333333333
       },
       "content": {
        "cell": "a6b3b419-b3f0-4a04-b510-30c462375eab",
        "part": "outputs"
       },
       "id": "de579c57-742d-40ad-940e-47761477e3e5"
      }
     }
    },
    "bdedf4d0-1c9a-4713-b684-7b4a399f0a61": {
     "id": "bdedf4d0-1c9a-4713-b684-7b4a399f0a61",
     "prev": "84e9fedc-213f-4b0f-911e-9d2123f444a1",
     "regions": {
      "5fb439ee-2782-4953-a44a-ba3713eadee2": {
       "attrs": {
        "height": 0.8,
        "width": 0.8,
        "x": 0.1,
        "y": 0.1
       },
       "content": {
        "cell": "656571bd-3dde-452d-8861-d477fa7c5438",
        "part": "whole"
       },
       "id": "5fb439ee-2782-4953-a44a-ba3713eadee2"
      }
     }
    },
    "c2a0fb0b-ea79-4671-b4e1-3683e3c0e549": {
     "id": "c2a0fb0b-ea79-4671-b4e1-3683e3c0e549",
     "prev": "8853c419-4800-4220-a2bc-a8eb015b2452",
     "regions": {
      "b4b3a3cd-6b5f-498f-8997-e6f86057fa19": {
       "attrs": {
        "height": 0.8,
        "width": 0.8,
        "x": 0.1,
        "y": 0.1
       },
       "content": {
        "cell": "d4750036-2d51-4ba8-a9dc-1d0a9c1ce175",
        "part": "whole"
       },
       "id": "b4b3a3cd-6b5f-498f-8997-e6f86057fa19"
      }
     }
    },
    "c4b0e4dd-d834-4aa5-8825-7b619f6d7fb3": {
     "id": "c4b0e4dd-d834-4aa5-8825-7b619f6d7fb3",
     "prev": "88feba37-5dfd-4721-80ba-a743cbe9310d",
     "regions": {
      "b1b77ffc-66a4-4389-81f5-899fd71e36c1": {
       "attrs": {
        "height": 0.8,
        "width": 0.8,
        "x": 0.1,
        "y": 0.1
       },
       "content": {
        "cell": "3bd2c9b8-4132-49b8-85d3-7e484802809e",
        "part": "whole"
       },
       "id": "b1b77ffc-66a4-4389-81f5-899fd71e36c1"
      }
     }
    }
   },
   "themes": {
    "default": "cbf85d61-bca7-4189-b702-e84c4572a1a7",
    "theme": {}
   }
  }
 },
 "nbformat": 4,
 "nbformat_minor": 0
}
